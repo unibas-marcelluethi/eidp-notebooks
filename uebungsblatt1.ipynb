{
 "cells": [
  {
   "cell_type": "markdown",
   "source": [
    "# Übungsblatt 1: Erste Programme "
   ],
   "metadata": {}
  },
  {
   "cell_type": "markdown",
   "source": [
    "*Schreiben Sie in dieses Feld Ihren Vornamen, Namen und Matrikelnummer.*"
   ],
   "metadata": {
    "deletable": false
   }
  },
  {
   "cell_type": "markdown",
   "source": [
    "#### Variablendeklaration (1 Punkt)\n",
    "\n",
    "Weisen Sie den Wert ```42``` einer Variable mit dem Namen ```ultimate_answer``` zu."
   ],
   "metadata": {
    "deletable": false
   }
  },
  {
   "cell_type": "code",
   "execution_count": 4,
   "source": [
    "# Ihre Lösung"
   ],
   "outputs": [],
   "metadata": {
    "deletable": false,
    "exercise_id": 1
   }
  },
  {
   "cell_type": "markdown",
   "source": [
    "#### Peptalk (2 Punkte)\r\n",
    "\r\n",
    "\r\n",
    "Schreiben Sie ein Programm, welches Ihren Vornamen in einer Variable ```firstname``` speichert und dann folgenden Text ausgibt:\r\n",
    "> Hallo VORNAME - Es freut mich, dass du programmieren lernst. \r\n",
    "\r\n",
    "Dabei soll jeweils der Platzhalter VORNAME mit dem Inhalt der Variablen `firstname` ersetzt werden. Der Text muss zudem auf einer Zeile ausgegeben werden.\r\n"
   ],
   "metadata": {
    "deletable": false
   }
  },
  {
   "cell_type": "code",
   "execution_count": 1,
   "source": [
    "# Ihre Lösung"
   ],
   "outputs": [],
   "metadata": {
    "deletable": false,
    "exercise_id": 2
   }
  },
  {
   "cell_type": "markdown",
   "source": [
    "#### Zinseszinsen (2 Punkte)\r\n",
    "\r\n",
    "Schreiben Sie ein Programm, welches für ein gegebenes Startkapital und einen festen Zinssatz die am Endes des ersten und zweiten Jahres erhaltenen Zinsen, berechnet. Ihr Programm soll dabei folgende Anforderungen erfüllen:\r\n",
    "\r\n",
    "* Das Kapital nach dem ersten Jahr muss in einer Variablen mit dem Namen ```kapital_jahr_1``` und das Kapital mit dem zweiten Jahr (inklusive Zinsen) muss in einer Variable mit dem Namen ```kapital_jahr_2``` gespeichert werden.\r\n",
    "* Es soll eine Meldung mit dem Text\r\n",
    "    > Kapital nach Jahr 2: Fr. XXX\r\n",
    "    \r\n",
    "    ausgegeben werden, wobei XXX für den erwirtschafteten Zins steht.\r\n"
   ],
   "metadata": {}
  },
  {
   "cell_type": "code",
   "execution_count": 2,
   "source": [
    "startkapital = 100 \r\n",
    "zinssatz = 0.01\r\n",
    "\r\n",
    "# Ihre Lösung"
   ],
   "outputs": [],
   "metadata": {
    "deletable": false,
    "exercise_id": 3
   }
  },
  {
   "cell_type": "markdown",
   "source": [
    "#### Windchill  (2 Punkte)\r\n",
    "\r\n",
    "Schreiben Sie ein Programm, dass den Windchill-Faktor berechnet. Der Windchill-Faktor ist definiert als \r\n",
    "$13.12 + 0.0615 t - 11.37 v^{0.16} + 0.3965 t v^{0.16}$\r\n",
    "wobei $t$ und $v$ die aktuelle Temperatur (in Grad Celsius) und v der Windgeschwindigkeit (in m/s) entspricht. \r\n",
    "\r\n",
    "* Nutzen Sie dazu zwei Variablen ```v``` und ```t``` und speichern Sie das Ergebnis in einer Variablen mit dem Namen ```wc```. \r\n",
    "* Geben Sie die Meldung\r\n",
    "    > Windchill-Faktor: WC\r\n",
    "    \r\n",
    "    aus, wobei WC mit dem berechneten Wert für den Windchill-Faktor ersetzt werden soll. \r\n",
    "\r\n",
    "Tip: Der Ausdruck ```a ** b``` berechnet $a^b$. "
   ],
   "metadata": {
    "deletable": false
   }
  },
  {
   "cell_type": "code",
   "execution_count": 3,
   "source": [
    "# Ihre Lösung"
   ],
   "outputs": [],
   "metadata": {
    "deletable": false,
    "exercise_id": 4
   }
  },
  {
   "cell_type": "markdown",
   "source": [
    "#### Typen (1 Punkt)\n",
    "\n",
    "Schreiben Sie ein Programm, welches den Typ des Werts der aus den Berechnungen ```5 % 3``` und ```5 / 3``` ausgibt. Dabei soll jeder auf eine eigene Zeile geschrieben werden. \n",
    "\n"
   ],
   "metadata": {}
  },
  {
   "cell_type": "code",
   "execution_count": 5,
   "source": [
    "# Ihre Lösung"
   ],
   "outputs": [],
   "metadata": {
    "deletable": false,
    "exercise_id": 5
   }
  },
  {
   "cell_type": "markdown",
   "source": [
    "#### Swap (2 Punkte)\n",
    "\n",
    "Schreiben Sie ein Programm, welches den Wert der Variablen ```a``` und ```b``` vertauscht, d.h. ```a``` soll am Ende den Wert von ```b``` haben und ```b``` den Wert der Variablen ```a```. Dabei dürfen Sie die Werte ```0``` und ```1``` nicht direkt zuweisen, sondern müssen die Variablen (und allenfalls Hilfsvariablen) nutzen.  "
   ],
   "metadata": {
    "deletable": false
   }
  },
  {
   "cell_type": "code",
   "execution_count": 3,
   "source": [
    "a = 0 # Diese Zeile darf nicht verändert werden\r\n",
    "b = 1 # Diese Zeile darf nicht verändert werden\r\n",
    "\r\n",
    "# Ihre Lösung"
   ],
   "outputs": [],
   "metadata": {
    "deletable": false,
    "exercise_id": 6
   }
  }
 ],
 "metadata": {
  "celltoolbar": "Edit Metadata",
  "kernelspec": {
   "display_name": "Python 3 (ipykernel)",
   "language": "python",
   "name": "python3"
  },
  "language_info": {
   "codemirror_mode": {
    "name": "ipython",
    "version": 3
   },
   "file_extension": ".py",
   "mimetype": "text/x-python",
   "name": "python",
   "nbconvert_exporter": "python",
   "pygments_lexer": "ipython3",
   "version": "3.7.4"
  },
  "notebook_id": 1,
  "toc": {
   "base_numbering": 1,
   "nav_menu": {},
   "number_sections": false,
   "sideBar": false,
   "skip_h1_title": false,
   "title_cell": "Table of Contents",
   "title_sidebar": "Contents",
   "toc_cell": false,
   "toc_position": {},
   "toc_section_display": false,
   "toc_window_display": false
  }
 },
 "nbformat": 4,
 "nbformat_minor": 2
}